{
  "cells": [
    {
      "cell_type": "markdown",
      "metadata": {
        "colab_type": "text",
        "id": "view-in-github"
      },
      "source": [
        "<a href=\"https://colab.research.google.com/github/TSOlami/lstm-trading-bot/blob/main/trading_bot.ipynb\" target=\"_parent\"><img src=\"https://colab.research.google.com/assets/colab-badge.svg\" alt=\"Open In Colab\"/></a>"
      ]
    },
    {
      "cell_type": "markdown",
      "metadata": {
        "id": "0BgC5tIMNdun"
      },
      "source": [
        "#Load Modules"
      ]
    },
    {
      "cell_type": "code",
      "execution_count": null,
      "metadata": {
        "id": "sBhYpRxqNduo",
        "outputId": "ace7be29-2bf4-46f7-c1b4-90593f1e67b8"
      },
      "outputs": [
        {
          "ename": "",
          "evalue": "",
          "output_type": "error",
          "traceback": [
            "\u001b[1;31mRunning cells with '.venv (Python 3.12.2)' requires the ipykernel package.\n",
            "\u001b[1;31mRun the following command to install 'ipykernel' into the Python environment. \n",
            "\u001b[1;31mCommand: '\"c:/Users/teejay/www/my projects/fun-projects/lstm-trading-bot/.venv/Scripts/python.exe\" -m pip install ipykernel -U --force-reinstall'"
          ]
        }
      ],
      "source": [
        "%tensorflow_version 2.x"
      ]
    },
    {
      "cell_type": "markdown",
      "metadata": {
        "id": "NcoXeouUNduq"
      },
      "source": [
        "#Install Dependencies"
      ]
    },
    {
      "cell_type": "code",
      "execution_count": null,
      "metadata": {
        "id": "M22SkYZPNduq",
        "outputId": "1f6101cb-5671-4c9f-90fa-0a094680140c"
      },
      "outputs": [
        {
          "ename": "",
          "evalue": "",
          "output_type": "error",
          "traceback": [
            "\u001b[1;31mRunning cells with '.venv (Python 3.12.2)' requires the ipykernel package.\n",
            "\u001b[1;31mRun the following command to install 'ipykernel' into the Python environment. \n",
            "\u001b[1;31mCommand: '\"c:/Users/teejay/www/my projects/fun-projects/lstm-trading-bot/.venv/Scripts/python.exe\" -m pip install ipykernel -U --force-reinstall'"
          ]
        }
      ],
      "source": [
        "%pip install pandas_ta keras"
      ]
    },
    {
      "cell_type": "markdown",
      "metadata": {
        "id": "MFbdJdoyNdur"
      },
      "source": [
        "#Imports"
      ]
    },
    {
      "cell_type": "code",
      "execution_count": null,
      "metadata": {
        "id": "dFezpu4kNdur"
      },
      "outputs": [
        {
          "ename": "",
          "evalue": "",
          "output_type": "error",
          "traceback": [
            "\u001b[1;31mRunning cells with '.venv (Python 3.12.2)' requires the ipykernel package.\n",
            "\u001b[1;31mRun the following command to install 'ipykernel' into the Python environment. \n",
            "\u001b[1;31mCommand: '\"c:/Users/teejay/www/my projects/fun-projects/lstm-trading-bot/.venv/Scripts/python.exe\" -m pip install ipykernel -U --force-reinstall'"
          ]
        }
      ],
      "source": [
        "import tensorflow as tf\n",
        "import pandas as pd\n",
        "import numpy as np\n",
        "import matplotlib.pyplot as plt\n",
        "import yfinance as yf\n",
        "import pandas_ta as ta\n",
        "from sklearn.preprocessing import MinMaxScaler\n",
        "from keras import optimizers\n",
        "from keras.models import Model\n",
        "from keras.layers import LSTM, Input, Dense, Dropout, Activation\n"
      ]
    },
    {
      "cell_type": "markdown",
      "metadata": {
        "id": "2HMtVZ8cO_za"
      },
      "source": [
        "#Get Data"
      ]
    },
    {
      "cell_type": "markdown",
      "metadata": {
        "id": "m-hsWDVyPImy"
      },
      "source": [
        "###Define data download params and download the data"
      ]
    },
    {
      "cell_type": "code",
      "execution_count": null,
      "metadata": {
        "id": "xGQfvI2kPDxQ"
      },
      "outputs": [
        {
          "ename": "",
          "evalue": "",
          "output_type": "error",
          "traceback": [
            "\u001b[1;31mRunning cells with '.venv (Python 3.12.2)' requires the ipykernel package.\n",
            "\u001b[1;31mRun the following command to install 'ipykernel' into the Python environment. \n",
            "\u001b[1;31mCommand: '\"c:/Users/teejay/www/my projects/fun-projects/lstm-trading-bot/.venv/Scripts/python.exe\" -m pip install ipykernel -U --force-reinstall'"
          ]
        }
      ],
      "source": [
        "tickers = 'AAPL'\n",
        "start = '2004-01-01'\n",
        "end = '2024-01-01'\n",
        "\n",
        "data = yf.download(tickers, start, end)\n",
        "data.head()"
      ]
    },
    {
      "cell_type": "markdown",
      "metadata": {
        "id": "MJnStZj4PM3w"
      },
      "source": [
        "#Define indicators, target variables and clean the data"
      ]
    },
    {
      "cell_type": "code",
      "execution_count": null,
      "metadata": {
        "id": "gmEcgnBLPfwP"
      },
      "outputs": [
        {
          "ename": "",
          "evalue": "",
          "output_type": "error",
          "traceback": [
            "\u001b[1;31mRunning cells with '.venv (Python 3.12.2)' requires the ipykernel package.\n",
            "\u001b[1;31mRun the following command to install 'ipykernel' into the Python environment. \n",
            "\u001b[1;31mCommand: '\"c:/Users/teejay/www/my projects/fun-projects/lstm-trading-bot/.venv/Scripts/python.exe\" -m pip install ipykernel -U --force-reinstall'"
          ]
        }
      ],
      "source": [
        "# Calculate technical indicators\n",
        "data['RSI'] = ta.rsi(data['Close'], length=14)\n",
        "data['EMAF'] = ta.ema(data['Close'], length=9)\n",
        "data['EMAM'] = ta.ema(data['Close'], length=21)\n",
        "data['EMAS'] = ta.ema(data['Close'], length=50)\n",
        "data['BollingerB'] = ta.bbands(data['Close'], length=20)['BBL_20_2.0']\n",
        "data['Stoch'] = ta.stoch(data['High'], data['Low'], data['Close'])['STOCHk_14_3_3']\n",
        "data['ATR'] = ta.atr(data['High'], data['Low'], data['Close'], length=14)\n",
        "data['OBV'] = ta.obv(data['Close'], data['Volume'])\n",
        "data['VWAP'] = ta.vwap(data['High'], data['Low'], data['Close'], data['Volume'])\n",
        "\n",
        "# Prepare target variables for classification\n",
        "data['Target'] = data['Adj Close'] - data.Open\n",
        "data['Target'] = data['Target'].shift(-1)\n",
        "data['TargetClass'] = [1 if data['Target'][i]>0 else 0 for i in range(len(data))]\n",
        "data['TargetNextClose'] = data['Adj Close'].shift(-1)\n",
        "\n",
        "# Drop NaN values and unnecessary columns\n",
        "data.dropna(inplace=True)\n",
        "data.reset_index(inplace = True)\n",
        "data.drop(['Volume', 'Close', 'Date'], axis=1, inplace=True)\n",
        "\n",
        "# Prepare dataset for training\n",
        "data_set = data.iloc[:, :-1]  # Exclude TargetNextClose column\n",
        "pd.set_option('display.max_columns', None)\n",
        "\n",
        "data_set.head(20)"
      ]
    },
    {
      "cell_type": "markdown",
      "metadata": {
        "id": "DxScZZSQPkVU"
      },
      "source": [
        "#Prepare data for training"
      ]
    },
    {
      "cell_type": "code",
      "execution_count": null,
      "metadata": {
        "id": "7uyOG8HqPpUT"
      },
      "outputs": [
        {
          "ename": "",
          "evalue": "",
          "output_type": "error",
          "traceback": [
            "\u001b[1;31mRunning cells with '.venv (Python 3.12.2)' requires the ipykernel package.\n",
            "\u001b[1;31mRun the following command to install 'ipykernel' into the Python environment. \n",
            "\u001b[1;31mCommand: '\"c:/Users/teejay/www/my projects/fun-projects/lstm-trading-bot/.venv/Scripts/python.exe\" -m pip install ipykernel -U --force-reinstall'"
          ]
        }
      ],
      "source": [
        "# Determine which columns to include in X\n",
        "X_columns = ['Open', 'High', 'Low', 'Adj Close', 'RSI', 'EMAF', 'EMAM', 'EMAS', 'BollingerB', 'Stoch', 'ATR', 'OBV', 'VWAP']\n",
        "\n",
        "scaler = MinMaxScaler(feature_range=(0,1))\n",
        "data_set_scaled = scaler.fit_transform(data_set[X_columns])\n",
        "\n",
        "backcandles = 30\n",
        "\n",
        "X = np.array([data_set_scaled[i - backcandles:i, :].copy() for i in range(backcandles,len(data_set_scaled))])\n",
        "print(X.shape)\n",
        "yi = np.array(data_set_scaled[backcandles:,-1])\n",
        "y = np.reshape(yi,(len(yi),1))\n"
      ]
    },
    {
      "cell_type": "markdown",
      "metadata": {
        "id": "3P1oLksIPsZO"
      },
      "source": [
        "#Split the data into train and test sets"
      ]
    },
    {
      "cell_type": "code",
      "execution_count": null,
      "metadata": {
        "id": "-BzbMlMsPtl7"
      },
      "outputs": [
        {
          "ename": "",
          "evalue": "",
          "output_type": "error",
          "traceback": [
            "\u001b[1;31mRunning cells with '.venv (Python 3.12.2)' requires the ipykernel package.\n",
            "\u001b[1;31mRun the following command to install 'ipykernel' into the Python environment. \n",
            "\u001b[1;31mCommand: '\"c:/Users/teejay/www/my projects/fun-projects/lstm-trading-bot/.venv/Scripts/python.exe\" -m pip install ipykernel -U --force-reinstall'"
          ]
        }
      ],
      "source": [
        "# Define the size of the training set\n",
        "train_size = int(0.9 * len(X))\n",
        "\n",
        "# Split the data into training and testing sets\n",
        "X_train, X_test = X[:train_size], X[train_size:]\n",
        "y_train, y_test = y[:train_size], y[train_size:]\n",
        "\n",
        "print(X_train.shape)\n",
        "print(X_test.shape)\n",
        "print(y_train.shape)\n",
        "print(y_test.shape)\n",
        "print(y_train)"
      ]
    },
    {
      "cell_type": "markdown",
      "metadata": {
        "id": "Ml3Ao4AkPvG1"
      },
      "source": [
        "#The Model"
      ]
    },
    {
      "cell_type": "code",
      "execution_count": null,
      "metadata": {
        "id": "iiS4AE7-QAF4"
      },
      "outputs": [
        {
          "ename": "",
          "evalue": "",
          "output_type": "error",
          "traceback": [
            "\u001b[1;31mRunning cells with '.venv (Python 3.12.2)' requires the ipykernel package.\n",
            "\u001b[1;31mRun the following command to install 'ipykernel' into the Python environment. \n",
            "\u001b[1;31mCommand: '\"c:/Users/teejay/www/my projects/fun-projects/lstm-trading-bot/.venv/Scripts/python.exe\" -m pip install ipykernel -U --force-reinstall'"
          ]
        }
      ],
      "source": [
        "# Define the model architecture\n",
        "input_shape = (backcandles, 13)  # Shape of input data\n",
        "inputs = Input(shape=input_shape, name='input_layer')\n",
        "\n",
        "# Add LSTM layers\n",
        "x = LSTM(150, name='first_layer')(inputs)\n",
        "\n",
        "# Add Dense layer\n",
        "x = Dense(1, name='dense_layer')(x)\n",
        "\n",
        "# Add Activation layer\n",
        "output = Activation('linear', name='output')(x)\n",
        "\n",
        "# Create the model\n",
        "model = Model(inputs=inputs, outputs=output)\n",
        "\n",
        "# Compile the model\n",
        "adam = optimizers.Adam()\n",
        "model.compile(optimizer=adam, loss='mse')\n",
        "\n",
        "model.fit(x=X_train, y=y_train, batch_size=10, epochs=50, shuffle=False, validation_split = 0.1)"
      ]
    },
    {
      "cell_type": "markdown",
      "metadata": {
        "id": "uQAhsx6mP8Lo"
      },
      "source": [
        "\n",
        "#Training Results and Test\n"
      ]
    },
    {
      "cell_type": "code",
      "execution_count": null,
      "metadata": {
        "id": "-kFRSa9hQH8i"
      },
      "outputs": [
        {
          "ename": "",
          "evalue": "",
          "output_type": "error",
          "traceback": [
            "\u001b[1;31mRunning cells with '.venv (Python 3.12.2)' requires the ipykernel package.\n",
            "\u001b[1;31mRun the following command to install 'ipykernel' into the Python environment. \n",
            "\u001b[1;31mCommand: '\"c:/Users/teejay/www/my projects/fun-projects/lstm-trading-bot/.venv/Scripts/python.exe\" -m pip install ipykernel -U --force-reinstall'"
          ]
        }
      ],
      "source": [
        "# Evaluate the model on the test set\n",
        "loss = model.evaluate(X_test, y_test)\n",
        "print(\"Test Loss:\", loss)\n",
        "\n",
        "# Make predictions on the test set\n",
        "predictions = model.predict(X_test)\n",
        "\n",
        "# Calculate accuracy (assuming this is a regression problem)\n",
        "accuracy = np.mean(np.abs(predictions - y_test))\n",
        "print(\"Mean Absolute Error (MAE):\", accuracy)\n",
        "\n",
        "# Print out some example predictions and actual values\n",
        "print(\"Example predictions and actual values:\")\n",
        "for i in range(10):\n",
        "    print(\"Prediction:\", predictions[i][0], \" - Actual:\", y_test[i][0])\n"
      ]
    },
    {
      "cell_type": "markdown",
      "metadata": {
        "id": "_SNseORyQfKh"
      },
      "source": [
        "#Graph"
      ]
    },
    {
      "cell_type": "code",
      "execution_count": null,
      "metadata": {
        "id": "zw5KhLrhQhG8"
      },
      "outputs": [
        {
          "ename": "",
          "evalue": "",
          "output_type": "error",
          "traceback": [
            "\u001b[1;31mRunning cells with '.venv (Python 3.12.2)' requires the ipykernel package.\n",
            "\u001b[1;31mRun the following command to install 'ipykernel' into the Python environment. \n",
            "\u001b[1;31mCommand: '\"c:/Users/teejay/www/my projects/fun-projects/lstm-trading-bot/.venv/Scripts/python.exe\" -m pip install ipykernel -U --force-reinstall'"
          ]
        }
      ],
      "source": [
        "\n",
        "# Plot some example predictions vs actual values\n",
        "plt.figure(figsize=(16,8))\n",
        "plt.plot(y_test, color = 'yellow', label = 'Actual Value')\n",
        "plt.plot(predictions, color = 'green', label = 'Prediction')\n",
        "plt.xlabel('Sample Index')\n",
        "plt.ylabel('Value')\n",
        "plt.title('Example Predictions vs Actual Values')\n",
        "plt.legend()\n",
        "plt.show()"
      ]
    },
    {
      "cell_type": "markdown",
      "metadata": {
        "id": "P2hyFtx5QuBn"
      },
      "source": [
        "#Prediction and Accuracy Measurements"
      ]
    },
    {
      "cell_type": "code",
      "execution_count": null,
      "metadata": {
        "id": "yfVIT5VtQ3Tr"
      },
      "outputs": [
        {
          "ename": "",
          "evalue": "",
          "output_type": "error",
          "traceback": [
            "\u001b[1;31mRunning cells with '.venv (Python 3.12.2)' requires the ipykernel package.\n",
            "\u001b[1;31mRun the following command to install 'ipykernel' into the Python environment. \n",
            "\u001b[1;31mCommand: '\"c:/Users/teejay/www/my projects/fun-projects/lstm-trading-bot/.venv/Scripts/python.exe\" -m pip install ipykernel -U --force-reinstall'"
          ]
        }
      ],
      "source": [
        "# Make binary predictions based on the model's output\n",
        "binary_predictions = np.where(predictions > 0.5, 1, 0)\n",
        "binary_y_test = np.where(y_test > 0, 1, 0)\n",
        "\n",
        "# Compute accuracy\n",
        "accuracy = np.mean(binary_predictions == binary_y_test) * 100\n",
        "print(\"Accuracy: {:.2f}%\".format(accuracy))\n"
      ]
    }
  ],
  "metadata": {
    "colab": {
      "include_colab_link": true,
      "provenance": []
    },
    "kernelspec": {
      "display_name": "Python 3",
      "language": "python",
      "name": "python3"
    },
    "language_info": {
      "codemirror_mode": {
        "name": "ipython",
        "version": 3
      },
      "file_extension": ".py",
      "mimetype": "text/x-python",
      "name": "python",
      "nbconvert_exporter": "python",
      "pygments_lexer": "ipython3",
      "version": "3.12.2"
    }
  },
  "nbformat": 4,
  "nbformat_minor": 0
}
